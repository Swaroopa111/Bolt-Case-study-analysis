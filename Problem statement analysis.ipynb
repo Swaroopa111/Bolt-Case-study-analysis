{
 "cells": [
  {
   "cell_type": "markdown",
   "metadata": {},
   "source": []
  },
  {
   "cell_type": "code",
   "execution_count": 1,
   "metadata": {},
   "outputs": [
    {
     "name": "stdout",
     "output_type": "stream",
     "text": [
      "Preparation Time Statistics (in minutes):\n",
      "count    1802.000000\n",
      "mean        9.429514\n",
      "std        37.315912\n",
      "min         0.000000\n",
      "25%         1.800000\n",
      "50%         4.508333\n",
      "75%         9.275000\n",
      "max      1135.583333\n",
      "Name: preparation_time, dtype: float64\n",
      "Percentage of orders with preparation time > 30 minutes: 3.27%\n",
      "Top 5 restaurants with longest average preparation times:\n",
      "restaurant_id\n",
      "1346    1135.583333\n",
      "195      328.377778\n",
      "1396     242.450000\n",
      "117      233.100000\n",
      "1509      99.654545\n",
      "Name: preparation_time, dtype: float64\n"
     ]
    }
   ],
   "source": [
    "#analyzing the inefficiencies in the delivery process, focusing on the preparation time, courier waiting time, and the perspectives of different stakeholders. Let's start with analyzing the preparation time for orders\n",
    "#The code loads order data, calculates preparation times, visualizes their distribution, and identifies restaurants with the longest average preparation times\n",
    "\n",
    "import pandas as pd\n",
    "import matplotlib.pyplot as plt\n",
    "import seaborn as sns\n",
    "\n",
    "# Load and clean the data\n",
    "orders_df = pd.read_csv('orders.csv')\n",
    "order_stages_df = pd.read_csv('order_stages.csv')\n",
    "\n",
    "# Convert timestamp columns to datetime\n",
    "orders_df['order_promised_delivery'] = pd.to_datetime(orders_df['order_promised_delivery'])\n",
    "orders_df['restaurant_finished_preparation'] = pd.to_datetime(orders_df['restaurant_finished_preparation'])\n",
    "order_stages_df['order_stage_start'] = pd.to_datetime(order_stages_df['order_stage_start'])\n",
    "\n",
    "# Calculate preparation time in minutes\n",
    "orders_df['preparation_time'] = (orders_df['restaurant_finished_preparation'] - orders_df['order_promised_delivery']).dt.total_seconds() / 60\n",
    "\n",
    "# Remove any rows with negative preparation time (data inconsistency)\n",
    "orders_df = orders_df[orders_df['preparation_time'] >= 0]\n",
    "\n",
    "# Analyze preparation time\n",
    "plt.figure(figsize=(12, 6))\n",
    "sns.histplot(orders_df['preparation_time'], bins=50, kde=True)\n",
    "plt.title('Distribution of Order Preparation Time')\n",
    "plt.xlabel('Preparation Time (minutes)')\n",
    "plt.ylabel('Frequency')\n",
    "plt.savefig('preparation_time_distribution.png')\n",
    "plt.close()\n",
    "\n",
    "# Calculate and print summary statistics\n",
    "prep_time_stats = orders_df['preparation_time'].describe()\n",
    "print(\"Preparation Time Statistics (in minutes):\")\n",
    "print(prep_time_stats)\n",
    "\n",
    "# Identify orders with long preparation times (e.g., > 30 minutes)\n",
    "long_prep_orders = orders_df[orders_df['preparation_time'] > 30]\n",
    "print(f\"\\\n",
    "Percentage of orders with preparation time > 30 minutes: {len(long_prep_orders) / len(orders_df) * 100:.2f}%\")\n",
    "\n",
    "# Analyze preparation time by restaurant\n",
    "restaurant_prep_time = orders_df.groupby('restaurant_id')['preparation_time'].mean().sort_values(ascending=False)\n",
    "plt.figure(figsize=(12, 6))\n",
    "sns.barplot(x=restaurant_prep_time.index[:20], y=restaurant_prep_time.values[:20])\n",
    "plt.title('Average Preparation Time by Restaurant (Top 20)')\n",
    "plt.xlabel('Restaurant ID')\n",
    "plt.ylabel('Average Preparation Time (minutes)')\n",
    "plt.xticks(rotation=45)\n",
    "plt.savefig('avg_prep_time_by_restaurant.png')\n",
    "plt.close()\n",
    "\n",
    "print(\"\\\n",
    "Top 5 restaurants with longest average preparation times:\")\n",
    "print(restaurant_prep_time.head())"
   ]
  },
  {
   "cell_type": "markdown",
   "metadata": {},
   "source": [
    "# These results highlight that there is indeed inefficiency in the preparation process, which could be contributing to delays in delivery. Let's analyze the time couriers spend waiting at the restaurant and then look at the problem from different perspectives"
   ]
  },
  {
   "cell_type": "code",
   "execution_count": 3,
   "metadata": {},
   "outputs": [
    {
     "name": "stdout",
     "output_type": "stream",
     "text": [
      "Courier Waiting Time Statistics (in minutes):\n",
      "count    64145.000000\n",
      "mean         0.751842\n",
      "std          7.283964\n",
      "min       -118.650000\n",
      "25%         -2.766667\n",
      "50%          0.766667\n",
      "75%          4.233333\n",
      "max         94.783333\n",
      "dtype: float64\n",
      "Percentage of orders where courier waits > 10 minutes: 7.07%\n",
      "Image URL:\n",
      "{image_urls_dict['courier_waiting_time_distribution.png']}\n"
     ]
    }
   ],
   "source": [
    "#This code snippet calculates and visualizes the distribution of courier waiting times at restaurants, providing summary statistics and the percentage of orders with waits exceeding 10 minutes\n",
    "\n",
    "import pandas as pd\n",
    "import matplotlib.pyplot as plt\n",
    "import seaborn as sns\n",
    "\n",
    " #Load and preprocess data\n",
    "orders_df = pd.read_csv('orders.csv')\n",
    "order_stages_df = pd.read_csv('order_stages.csv')\n",
    "\n",
    "# Convert timestamp columns to datetime and remove timezone information\n",
    "orders_df['order_promised_delivery'] = pd.to_datetime(orders_df['order_promised_delivery']).dt.tz_localize(None)\n",
    "orders_df['restaurant_finished_preparation'] = pd.to_datetime(orders_df['restaurant_finished_preparation']).dt.tz_localize(None)\n",
    "order_stages_df['order_stage_start'] = pd.to_datetime(order_stages_df['order_stage_start']).dt.tz_localize(None)\n",
    "\n",
    "# Merge datasets\n",
    "merged_df = pd.merge(orders_df, order_stages_df, on='order_id')\n",
    "\n",
    "# Calculate courier waiting time at restaurant\n",
    "courier_wait_time = merged_df[merged_df['order_stage'] == 'courier_arrived_at_restaurant'].groupby('order_id').apply(\n",
    "    lambda x: (x['restaurant_finished_preparation'].iloc[0] - x['order_stage_start'].iloc[0]).total_seconds() / 60\n",
    ")\n",
    "\n",
    "# Plot distribution of courier waiting time\n",
    "plt.figure(figsize=(12, 6))\n",
    "sns.histplot(courier_wait_time, bins=50, kde=True)\n",
    "plt.title('Distribution of Courier Waiting Time at Restaurant')\n",
    "plt.xlabel('Waiting Time (minutes)')\n",
    "plt.ylabel('Frequency')\n",
    "plt.savefig('courier_waiting_time_distribution.png')\n",
    "plt.close()\n",
    "\n",
    "# Calculate and print summary statistics\n",
    "wait_time_stats = courier_wait_time.describe()\n",
    "print(\"Courier Waiting Time Statistics (in minutes):\")\n",
    "print(wait_time_stats)\n",
    "\n",
    "# Calculate percentage of orders where courier waits more than 10 minutes\n",
    "long_wait_orders = courier_wait_time[courier_wait_time > 10]\n",
    "print(f\"\\\n",
    "Percentage of orders where courier waits > 10 minutes: {len(long_wait_orders) / len(courier_wait_time) * 100:.2f}%\")\n",
    "\n",
    "# Return the image URL\n",
    "print(\"\\\n",
    "Image URL:\")\n",
    "print(\"{image_urls_dict['courier_waiting_time_distribution.png']}\")"
   ]
  },
  {
   "cell_type": "code",
   "execution_count": null,
   "metadata": {},
   "outputs": [],
   "source": [
    "Percentage of Orders where Courier Waits > 10 minutes:\n",
    "Percentage of orders where courier waits > 10 minutes: 7.07%"
   ]
  },
  {
   "cell_type": "code",
   "execution_count": 4,
   "metadata": {},
   "outputs": [
    {
     "name": "stdout",
     "output_type": "stream",
     "text": [
      "Average total delivery time by order stage:\n",
      "order_stage\n",
      "courier_delivered_order           0.635224\n",
      "courier_arrived_at_customer      -1.553579\n",
      "courier_picked_up_order         -13.061303\n",
      "courier_arrived_at_restaurant   -17.789415\n",
      "courier_accepts_order           -22.274378\n",
      "order_proposed_to_courier       -22.467634\n",
      "Name: total_delivery_time, dtype: float64\n",
      "Image URL:\n",
      "{image_urls_dict['delivery_time_by_stage.png']}\n"
     ]
    }
   ],
   "source": [
    "#let's analyze the problem from the perspectives of the customer, courier, and restaurant owner. We'll start by looking at the total delivery time and its impact on customer satisfaction.\n",
    "\n",
    "#The code calculates and visualizes the total delivery time for orders at different stages, providing insights into average delays.\n",
    "\n",
    "# Analyze the impact on delivery time from the customer's perspective\n",
    "\n",
    "# Calculate total delivery time\n",
    "merged_df['total_delivery_time'] = (merged_df['order_stage_start'] - merged_df['order_promised_delivery']).dt.total_seconds() / 60\n",
    "\n",
    "# Plot total delivery time by order stage\n",
    "plt.figure(figsize=(10, 6))\n",
    "sns.boxplot(data=merged_df, x='order_stage', y='total_delivery_time')\n",
    "plt.title('Total Delivery Time by Order Stage')\n",
    "plt.xlabel('Order Stage')\n",
    "plt.ylabel('Total Delivery Time (minutes)')\n",
    "plt.xticks(rotation=45)\n",
    "plt.savefig('delivery_time_by_stage.png')\n",
    "plt.close()\n",
    "\n",
    "# Calculate average total delivery time by order stage\n",
    "avg_delivery_time_by_stage = merged_df.groupby('order_stage')['total_delivery_time'].mean().sort_values(ascending=False)\n",
    "print(\"\\\n",
    "Average total delivery time by order stage:\")\n",
    "print(avg_delivery_time_by_stage)\n",
    "\n",
    "# Return the image URL\n",
    "print(\"\\\n",
    "Image URL:\")\n",
    "print(\"{image_urls_dict['delivery_time_by_stage.png']}\")"
   ]
  },
  {
   "cell_type": "markdown",
   "metadata": {},
   "source": [
    "Next, let's analyze the problem from the perspectives of the courier and restaurant owner. We'll look at the courier's travel times and the restaurant's preparation efficiency."
   ]
  },
  {
   "cell_type": "code",
   "execution_count": 8,
   "metadata": {},
   "outputs": [
    {
     "name": "stdout",
     "output_type": "stream",
     "text": [
      "Courier Travel Time Statistics (in minutes):\n",
      "       estimated_travel_time_to_restaurant  estimated_travel_time_to_customer\n",
      "count                         62055.000000                       64073.000000\n",
      "mean                              3.019856                           9.332646\n",
      "std                               2.047247                           5.715181\n",
      "min                               0.000000                           0.000000\n",
      "25%                               1.566667                           5.183333\n",
      "50%                               2.733333                           8.050000\n",
      "75%                               4.083333                          12.250000\n",
      "max                              31.500000                          50.283333\n",
      "Image URL:\n",
      "{image_urls_dict['courier_travel_times.png']}\n"
     ]
    }
   ],
   "source": [
    "#This code calculates and visualizes the estimated travel times of couriers to restaurants and customers, providing summary statistics and saving the distribution plot as an image.\n",
    "\n",
    "\n",
    "# Analyze courier's travel times\n",
    "\n",
    "# Calculate travel time to restaurant and to customer\n",
    "order_stages_df['estimated_travel_time_to_restaurant'] = order_stages_df['estimated_travel_time_in_seconds_to_restaurant'] / 60\n",
    "order_stages_df['estimated_travel_time_to_customer'] = order_stages_df['estimated_travel_time_in_seconds_to_eater'] / 60\n",
    "\n",
    "# Plot travel times\n",
    "plt.figure(figsize=(12, 6))\n",
    "sns.histplot(order_stages_df['estimated_travel_time_to_restaurant'].dropna(), bins=50, kde=True, color='blue', label='To Restaurant')\n",
    "sns.histplot(order_stages_df['estimated_travel_time_to_customer'].dropna(), bins=50, kde=True, color='green', label='To Customer')\n",
    "plt.title('Distribution of Courier Travel Times')\n",
    "plt.xlabel('Travel Time (minutes)')\n",
    "plt.ylabel('Frequency')\n",
    "plt.legend()\n",
    "plt.savefig('courier_travel_times.png')\n",
    "plt.close()\n",
    "\n",
    "# Calculate and print summary statistics\n",
    "travel_time_stats = order_stages_df[['estimated_travel_time_to_restaurant', 'estimated_travel_time_to_customer']].describe()\n",
    "print(\"Courier Travel Time Statistics (in minutes):\")\n",
    "print(travel_time_stats)\n",
    "\n",
    "# Return the image URL\n",
    "print(\"\\\n",
    "Image URL:\")\n",
    "print(\"{image_urls_dict['courier_travel_times.png']}\")\n",
    "\n"
   ]
  }
 ],
 "metadata": {
  "kernelspec": {
   "display_name": "Python 3",
   "language": "python",
   "name": "python3"
  },
  "language_info": {
   "codemirror_mode": {
    "name": "ipython",
    "version": 3
   },
   "file_extension": ".py",
   "mimetype": "text/x-python",
   "name": "python",
   "nbconvert_exporter": "python",
   "pygments_lexer": "ipython3",
   "version": "3.12.0"
  }
 },
 "nbformat": 4,
 "nbformat_minor": 5
}
